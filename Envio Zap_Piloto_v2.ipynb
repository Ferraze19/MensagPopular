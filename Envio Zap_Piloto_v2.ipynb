{
 "cells": [
  {
   "cell_type": "code",
   "execution_count": 1,
   "metadata": {},
   "outputs": [
    {
     "name": "stdout",
     "output_type": "stream",
     "text": [
      "importing Jupyter notebook from Base_Dados.ipynb\n"
     ]
    }
   ],
   "source": [
    "import pyautogui\n",
    "import pyperclip\n",
    "import time\n",
    "import import_ipynb\n",
    "import Base_Dados as bd"
   ]
  },
  {
   "cell_type": "code",
   "execution_count": 2,
   "metadata": {},
   "outputs": [],
   "source": [
    "def Enviar(lista_filiados):\n",
    "    pyautogui.hotkey(\"Alt\", \"Tab\")\n",
    "    time.sleep(0.5)\n",
    "    #for i in  [0]:\n",
    "    for i in lista_filiados.index:\n",
    "        pyautogui.click(x=142, y=110)\n",
    "        Numero = str(lista_filiados.at[i, \"Celular do filiado:\"]) #Obter iésima entrada de dado de número de celular\n",
    "        #resolver problema com codigo de DDD\n",
    "        pyautogui.write(Numero) #Inserir dado obtido linha anterior\n",
    "        time.sleep(1)\n",
    "        pyautogui.press('Enter')\n",
    "        time.sleep(0.8)\n",
    "        #Adicionar função de obter mensagem\n",
    "        pyperclip.copy(\"\"\"⚠️⚠️⚠️ ATENÇÃO, CAMARADAS ⚠️⚠️⚠️\n",
    "\n",
    "Nesta terça-feira, 16 de agosto, inicia oficialmente a nossa campanha eleitoral. A partir de amanhã podemos/ devemos divulgar muito os números dos nossos candidatos.\n",
    "\n",
    "No Rio de Janeiro somos: \n",
    "\n",
    "80 para Governadoras - Juliete e Juliana\n",
    "\n",
    "800 para Senadores\n",
    "Raul, Gabriela Gonçalves e Formigão\n",
    "\n",
    "80000 para Deputada  Estadual - Giovanna Almeida\n",
    "\n",
    "80180 para Deputada Estadual - Chantal Campelo\n",
    "\n",
    "80123 para Deputado Estadual - Gabriel GB\n",
    "\n",
    "\n",
    "Faremos diversas publicações durante o dia com essas  informação. É muito importante que todos e todas divulguem, postem e interajam com as postagens nos perfis e nos perfis de nossos com companheiros.\n",
    "\n",
    "Contamos com a ajuda de todos e todas!\n",
    "\n",
    "#PovoNoPoder\n",
    "#UnidadePopular\n",
    "#TôComRaul\n",
    "#BondeDaJu\n",
    "#MeuVotoFeminista\n",
    "#UmServidorPraSenador\"\"\")\n",
    "        pyautogui.hotkey(\"Ctrl\", \"V\")\n",
    "        time.sleep(0.3)\n",
    "        pyautogui.press('Enter')\n",
    "        time.sleep(1)\n",
    "        pyautogui.press('Esc')\n",
    "        time.sleep(0.4)"
   ]
  },
  {
   "cell_type": "code",
   "execution_count": 3,
   "metadata": {},
   "outputs": [],
   "source": [
    "#Enviar mensagem para todos os filiados da lista\n",
    "lista_filiados = bd.Criar_lista_filiados()\n",
    "Enviar(lista_filiados)"
   ]
  },
  {
   "cell_type": "code",
   "execution_count": 8,
   "metadata": {},
   "outputs": [
    {
     "name": "stdout",
     "output_type": "stream",
     "text": [
      "Colunas se quer manter na planilha final separado por vírgula - Nome do filiado:\n",
      "Colunas se quer manter na planilha final separado por vírgula - Celular do filiado:\n",
      "Colunas se quer manter na planilha final separado por vírgula - \n",
      "Coluna usada para filtrar planilha - Município\n",
      "Valor procurado na col_filt - Rio de Janeiro\n"
     ]
    }
   ],
   "source": [
    "##Enviar mensagem para filiados filtrados da lista de acordo com parametro escolhido.\n",
    "lista_filiados = bd.Filt_list (bd.Criar_lista_filiados(), bd.Selec_filt ())\n",
    "Enviar(lista_filiados)"
   ]
  },
  {
   "cell_type": "code",
   "execution_count": null,
   "metadata": {},
   "outputs": [],
   "source": []
  }
 ],
 "metadata": {
  "kernelspec": {
   "display_name": "Python 3",
   "language": "python",
   "name": "python3"
  },
  "language_info": {
   "codemirror_mode": {
    "name": "ipython",
    "version": 3
   },
   "file_extension": ".py",
   "mimetype": "text/x-python",
   "name": "python",
   "nbconvert_exporter": "python",
   "pygments_lexer": "ipython3",
   "version": "3.7.6"
  }
 },
 "nbformat": 4,
 "nbformat_minor": 4
}
